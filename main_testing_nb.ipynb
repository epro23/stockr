{
 "cells": [
  {
   "cell_type": "code",
   "execution_count": 52,
   "id": "2314d5bf",
   "metadata": {},
   "outputs": [],
   "source": [
    "import tkinter as tk\n",
    "\n",
    "class guiWindow:\n",
    "    def __init__(self):\n",
    "        self.root = tk.Tk()\n",
    "\n",
    "        # Additional configuration\n",
    "        self.root.title(\"stockr\")\n",
    "        self.root.minsize(400,200)\n",
    "        self.root.maxsize(1600,1200)\n",
    "        self.root.geometry(\"800x600\")\n",
    "        self.root.configure(background='lightgrey')\n"
   ]
  },
  {
   "cell_type": "code",
   "execution_count": 54,
   "id": "a5135622",
   "metadata": {},
   "outputs": [],
   "source": [
    "class guiVisuals:\n",
    "    def __init__(self, guiWindow, type):\n",
    "        self.guiWindow = guiWindow\n",
    "        self.type = type.lower()\n",
    "        self.dispatch_type()\n",
    "        # Return to add more GUI elements!\n",
    "    \n",
    "    def dispatch_type(self):\n",
    "        # Redirect type parameter to visual call\n",
    "        method_name = f\"create_{self.type}\"\n",
    "        method = getattr(self, method_name, None)\n",
    "        if method:\n",
    "            method()\n",
    "        else:\n",
    "            print(f\"[Warning]: visual type '{self.type}' not yet implemented.\")\n",
    "\n",
    "    def create_label(self):\n",
    "        # Create a label\n",
    "        self.label = tk.Label(self.guiWindow.root, text=\"testing label!\", font=('Helvetica', 19))\n",
    "        self.label.pack()\n",
    "        return self.label\n",
    "        # Return to calibrate positioning!\n",
    "    \n",
    "    def create_button(self):\n",
    "        # Implement!\n",
    "        pass\n",
    "\n",
    "    def create_table(self):\n",
    "        # Implement!\n",
    "        pass"
   ]
  },
  {
   "cell_type": "code",
   "execution_count": 55,
   "id": "2098cbd9",
   "metadata": {},
   "outputs": [
    {
     "name": "stdout",
     "output_type": "stream",
     "text": [
      "[Warning]: visual type 'butter!' not yet implemented.\n"
     ]
    }
   ],
   "source": [
    "# Instantiate classes and run GUI\n",
    "window = guiWindow()\n",
    "guiVisuals(window, \"label\")\n",
    "guiVisuals(window, \"butter!\")\n",
    "\n",
    "# Run main loop\n",
    "window.root.mainloop()"
   ]
  }
 ],
 "metadata": {
  "kernelspec": {
   "display_name": "Python 3",
   "language": "python",
   "name": "python3"
  },
  "language_info": {
   "codemirror_mode": {
    "name": "ipython",
    "version": 3
   },
   "file_extension": ".py",
   "mimetype": "text/x-python",
   "name": "python",
   "nbconvert_exporter": "python",
   "pygments_lexer": "ipython3",
   "version": "3.11.3"
  }
 },
 "nbformat": 4,
 "nbformat_minor": 5
}
